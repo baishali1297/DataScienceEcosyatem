{
 "cells": [
  {
   "cell_type": "markdown",
   "id": "8b6770ef-3349-48c2-9c0a-02d0fbf18ab9",
   "metadata": {},
   "source": [
    "# Data science Tools and Ecosystem "
   ]
  },
  {
   "cell_type": "markdown",
   "id": "183468d6-0390-49bf-9367-8e773ca35532",
   "metadata": {},
   "source": [
    "In this notebook, Data Science Tools & Ecosystem are summarized."
   ]
  },
  {
   "cell_type": "markdown",
   "id": "5edaa926-4b84-4a39-b57e-a77abc450fdb",
   "metadata": {},
   "source": [
    " **Objectives:**\n",
    "  \n",
    "- Learn Popular Data Science languages here like:\n",
    "    1. R\n",
    "    2. python\n",
    "    3. Sql; etc\n",
    "\n",
    "- Explore Popular Data Science Tools like:\n",
    "    1. Anaconda\n",
    "    2. RStudio\n",
    "    3. GitHub; etc\n",
    "\n",
    "- Understand commonly used Popular Data Science libraries like:\n",
    "    1. Matplotlib\n",
    "    2. ggplot2\n",
    "    3. Seaborn; etc"
   ]
  },
  {
   "cell_type": "markdown",
   "id": "313c84fc-7060-48fd-bac8-78bdaaa12b8a",
   "metadata": {},
   "source": [
    "Some of teh popular Language that Data Scientises use are:\n",
    "1. python\n",
    "2. R\n",
    "3. Sql"
   ]
  },
  {
   "cell_type": "markdown",
   "id": "0ccc5658-685d-4b0e-8ef1-fd1058efbfbc",
   "metadata": {},
   "source": [
    "Some of the commonly used libraries used by Data Scientists includes:\n",
    "1. Pandas\n",
    "2. NumPy\n",
    "3. Matplotlib\n",
    "4. ggplot2\n",
    "5. Seaborn\n",
    "6. Scikit-learn\n",
    "7. Tenserflow\n",
    "8. Pytorch"
   ]
  },
  {
   "cell_type": "markdown",
   "id": "ab6dd995-f3e6-40d5-97da-e681d04e76e1",
   "metadata": {},
   "source": [
    "|Data Science Tools|\n",
    "|--------------------|\n",
    "| Anaconda |\n",
    "| Rstudio |\n",
    "| PosrgerSQL |"
   ]
  },
  {
   "cell_type": "markdown",
   "id": "ea0ae1e7-fee7-4737-ab48-c75861e23d61",
   "metadata": {},
   "source": [
    "### Below are a few examples of evaluting arithmetic expressions in Python"
   ]
  },
  {
   "cell_type": "code",
   "execution_count": 2,
   "id": "bd2080e3-94a4-43d4-97dc-4b29c4e0ed4a",
   "metadata": {},
   "outputs": [
    {
     "data": {
      "text/plain": [
       "17"
      ]
     },
     "execution_count": 2,
     "metadata": {},
     "output_type": "execute_result"
    }
   ],
   "source": [
    "(3*4)+5\n",
    "# This a simple arithmetic expression to multiply then add integer"
   ]
  },
  {
   "cell_type": "code",
   "execution_count": 6,
   "id": "3be4c897-7fe2-4e15-a17b-653ac4277d6a",
   "metadata": {},
   "outputs": [
    {
     "data": {
      "text/plain": [
       "3.3333333333333335"
      ]
     },
     "execution_count": 6,
     "metadata": {},
     "output_type": "execute_result"
    }
   ],
   "source": [
    "200/60"
   ]
  },
  {
   "cell_type": "markdown",
   "id": "ba87faf3-6b43-44c0-89fc-283613dfb06e",
   "metadata": {},
   "source": [
    "## Author ##\n",
    "BAISHALI DAS"
   ]
  },
  {
   "cell_type": "code",
   "execution_count": null,
   "id": "bff58421-01af-4111-a757-730d08aea5a8",
   "metadata": {},
   "outputs": [],
   "source": []
  }
 ],
 "metadata": {
  "kernelspec": {
   "display_name": "Python 3 (ipykernel)",
   "language": "python",
   "name": "python3"
  },
  "language_info": {
   "codemirror_mode": {
    "name": "ipython",
    "version": 3
   },
   "file_extension": ".py",
   "mimetype": "text/x-python",
   "name": "python",
   "nbconvert_exporter": "python",
   "pygments_lexer": "ipython3",
   "version": "3.12.7"
  }
 },
 "nbformat": 4,
 "nbformat_minor": 5
}
